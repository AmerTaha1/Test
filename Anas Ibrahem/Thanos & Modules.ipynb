{
 "cells": [
  {
   "cell_type": "code",
   "execution_count": 22,
   "id": "affd04fc",
   "metadata": {},
   "outputs": [],
   "source": [
    "from random import choice\n",
    "import os"
   ]
  },
  {
   "cell_type": "markdown",
   "id": "ddea2cab",
   "metadata": {},
   "source": [
    "## THANOS"
   ]
  },
  {
   "cell_type": "code",
   "execution_count": 18,
   "id": "0c5c295e",
   "metadata": {},
   "outputs": [],
   "source": [
    "l=os.listdir('THANOS')\n",
    "for i in range(len(l)//2):\n",
    "    file=choice(l)\n",
    "    os.remove(f'THANOS/{file}')\n",
    "    l.remove(file)"
   ]
  },
  {
   "cell_type": "markdown",
   "id": "b920874b",
   "metadata": {},
   "source": [
    "## MY MODULES"
   ]
  },
  {
   "cell_type": "code",
   "execution_count": 19,
   "id": "7180b071",
   "metadata": {},
   "outputs": [],
   "source": [
    "import modules"
   ]
  },
  {
   "cell_type": "code",
   "execution_count": 20,
   "id": "8f30e280",
   "metadata": {},
   "outputs": [
    {
     "data": {
      "text/plain": [
       "120"
      ]
     },
     "execution_count": 20,
     "metadata": {},
     "output_type": "execute_result"
    }
   ],
   "source": [
    "modules.listmultiplcation([1,2,5,4,3])"
   ]
  },
  {
   "cell_type": "code",
   "execution_count": null,
   "id": "a0d58822",
   "metadata": {},
   "outputs": [],
   "source": []
  },
  {
   "cell_type": "code",
   "execution_count": null,
   "id": "f58e4ae5",
   "metadata": {},
   "outputs": [],
   "source": []
  }
 ],
 "metadata": {
  "kernelspec": {
   "display_name": "Python 3",
   "language": "python",
   "name": "python3"
  },
  "language_info": {
   "codemirror_mode": {
    "name": "ipython",
    "version": 3
   },
   "file_extension": ".py",
   "mimetype": "text/x-python",
   "name": "python",
   "nbconvert_exporter": "python",
   "pygments_lexer": "ipython3",
   "version": "3.8.8"
  }
 },
 "nbformat": 4,
 "nbformat_minor": 5
}
